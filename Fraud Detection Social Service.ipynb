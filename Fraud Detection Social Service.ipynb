{
 "cells": [
  {
   "cell_type": "code",
   "execution_count": 1,
   "id": "7a6475b7-eed2-402b-ad7a-19b6e3062db3",
   "metadata": {},
   "outputs": [
    {
     "name": "stdout",
     "output_type": "stream",
     "text": [
      "CSV files created successfully.\n"
     ]
    }
   ],
   "source": [
    "# ------------------------------\n",
    "# Step 1: Generate 1000-line CSV data in Python\n",
    "# ------------------------------\n",
    "import pandas as pd\n",
    "import numpy as np\n",
    "from random import randint, choice, uniform\n",
    "from datetime import datetime\n",
    "\n",
    "# Beneficiaries CSV\n",
    "beneficiaries = pd.DataFrame({\n",
    "    'beneficiary_id': range(1, 1001),\n",
    "    'name': [f'Beneficiary {i}' for i in range(1, 1001)],\n",
    "    'age': np.random.randint(18, 65, 1000),\n",
    "    'address': [f'Address {i}' for i in range(1, 1001)]\n",
    "})\n",
    "beneficiaries.to_csv(\"beneficiaries.csv\", index=False)\n",
    "\n",
    "# Bank Account Changes CSV\n",
    "bank_account_changes = pd.DataFrame({\n",
    "    'id': range(1, 1001),\n",
    "    'beneficiary_id': np.random.choice(beneficiaries['beneficiary_id'], 1000),\n",
    "    'change_date': [datetime(2023, randint(1, 12), randint(1, 28)).date() for _ in range(1000)],\n",
    "    'new_bank_account': [f'BANK{randint(100000, 999999)}' for _ in range(1000)]\n",
    "})\n",
    "bank_account_changes.to_csv(\"bank_account_changes.csv\", index=False)\n",
    "\n",
    "# Payments CSV\n",
    "payment_types = ['urgent', 'advance', 'disaster', 'one_off', 'regular']\n",
    "payments = pd.DataFrame({\n",
    "    'id': range(1, 1001),\n",
    "    'beneficiary_id': np.random.choice(beneficiaries['beneficiary_id'], 1000),\n",
    "    'payment_date': [datetime(2023, randint(1, 12), randint(1, 28)).date() for _ in range(1000)],\n",
    "    'payment_type': [choice(payment_types) for _ in range(1000)],\n",
    "    'amount': [round(uniform(100, 5000), 2) for _ in range(1000)]\n",
    "})\n",
    "payments.to_csv(\"payments.csv\", index=False)\n",
    "\n",
    "print(\"CSV files created successfully.\")\n"
   ]
  },
  {
   "cell_type": "code",
   "execution_count": null,
   "id": "1b920bb2-e7a9-4db6-bcc0-b0605835d61f",
   "metadata": {
    "editable": true,
    "slideshow": {
     "slide_type": ""
    },
    "tags": []
   },
   "outputs": [],
   "source": []
  }
 ],
 "metadata": {
  "kernelspec": {
   "display_name": "Python 3 (ipykernel)",
   "language": "python",
   "name": "python3"
  },
  "language_info": {
   "codemirror_mode": {
    "name": "ipython",
    "version": 3
   },
   "file_extension": ".py",
   "mimetype": "text/x-python",
   "name": "python",
   "nbconvert_exporter": "python",
   "pygments_lexer": "ipython3",
   "version": "3.12.4"
  }
 },
 "nbformat": 4,
 "nbformat_minor": 5
}
